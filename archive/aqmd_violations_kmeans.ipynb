{
 "cells": [
  {
   "cell_type": "markdown",
   "metadata": {
    "collapsed": true
   },
   "source": [
    "### Notes\n",
    "* https://medium.com/@luckylwk/visualising-high-dimensional-datasets-using-pca-and-t-sne-in-python-8ef87e7915b\n",
    "* http://scikit-learn.org/stable/modules/manifold.html#t-sne\n",
    "* http://jmlr.org/papers/volume9/vandermaaten08a/vandermaaten08a.pdf\n",
    "* https://www.kaggle.com/thykhuely/mercari-interactive-eda-topic-modelling\n",
    "* https://www.dataquest.io/blog/build-a-data-science-portfolio/\n",
    "* https://www.youtube.com/watch?v=NEaUSP4YerM\n",
    "* http://scikit-learn.org/stable/auto_examples/cluster/plot_kmeans_silhouette_analysis.html\n",
    "* https://www.stat.berkeley.edu/~spector/s133/Clus.html\n",
    "* https://stats.stackexchange.com/questions/10540/how-to-interpret-mean-of-silhouette-plot\n",
    "* Visualize clusters with and without tSNE\n",
    "* Need to understand how to explain the variance of costs within the clusters\n",
    "* Need to plot silhouette charts"
   ]
  },
  {
   "cell_type": "code",
   "execution_count": null,
   "metadata": {
    "collapsed": true
   },
   "outputs": [],
   "source": [
    "import pandas as pd\n",
    "import time\n",
    "import numpy as np\n",
    "import matplotlib.pyplot as plt\n",
    "from sklearn.feature_extraction.text import CountVectorizer\n",
    "from sklearn.cluster import KMeans\n",
    "from sklearn.metrics import silhouette_score\n",
    "from sklearn.manifold import TSNE\n",
    "import seaborn as sns\n",
    "from nltk import word_tokenize\n",
    "from collections import Counter\n",
    "from wordcloud import WordCloud\n",
    "from string import punctuation\n",
    "from sklearn.decomposition import PCA\n",
    "import re\n",
    "%matplotlib inline"
   ]
  },
  {
   "cell_type": "code",
   "execution_count": null,
   "metadata": {
    "collapsed": true
   },
   "outputs": [],
   "source": [
    "file = 'http://bit.ly/aqmd-violations-final'\n",
    "titlev = 'http://bit.ly/aqmd-titlev'\n",
    "reclaim = 'http://bit.ly/aqmd-reclaim'"
   ]
  },
  {
   "cell_type": "code",
   "execution_count": null,
   "metadata": {
    "collapsed": true
   },
   "outputs": [],
   "source": [
    "df_all = pd.read_csv(file)\n",
    "df_titleV = pd.read_csv(titlev)\n",
    "df_reclaim = pd.read_csv(reclaim)"
   ]
  },
  {
   "cell_type": "code",
   "execution_count": null,
   "metadata": {},
   "outputs": [],
   "source": [
    "df_all.head()"
   ]
  },
  {
   "cell_type": "code",
   "execution_count": null,
   "metadata": {
    "collapsed": true
   },
   "outputs": [],
   "source": [
    "df_all['facility_type'] = ''"
   ]
  },
  {
   "cell_type": "code",
   "execution_count": null,
   "metadata": {},
   "outputs": [],
   "source": [
    "df_all.head()"
   ]
  },
  {
   "cell_type": "code",
   "execution_count": null,
   "metadata": {},
   "outputs": [],
   "source": [
    "df_titleV.head()"
   ]
  },
  {
   "cell_type": "code",
   "execution_count": null,
   "metadata": {},
   "outputs": [],
   "source": [
    "df_reclaim.head()"
   ]
  },
  {
   "cell_type": "code",
   "execution_count": null,
   "metadata": {
    "collapsed": true
   },
   "outputs": [],
   "source": [
    "reclaim_list = df_reclaim['Fac_id'].tolist()"
   ]
  },
  {
   "cell_type": "code",
   "execution_count": null,
   "metadata": {
    "collapsed": true
   },
   "outputs": [],
   "source": [
    "titlev_list = df_titleV['Facility ID'].tolist()"
   ]
  },
  {
   "cell_type": "code",
   "execution_count": null,
   "metadata": {
    "collapsed": true
   },
   "outputs": [],
   "source": [
    "reclaim_titlev_list = [facility for facility in titlev_list if facility in reclaim_list]"
   ]
  },
  {
   "cell_type": "code",
   "execution_count": null,
   "metadata": {},
   "outputs": [],
   "source": [
    "list_error = []\n",
    "for index, row in df_all.iterrows():\n",
    "    try:\n",
    "        pd.to_numeric(row['facility id'])\n",
    "    except:\n",
    "        list_error.append(row)\n",
    "list_error"
   ]
  },
  {
   "cell_type": "code",
   "execution_count": null,
   "metadata": {},
   "outputs": [],
   "source": [
    "for each in list_error:\n",
    "    print(each['facility id'])"
   ]
  },
  {
   "cell_type": "code",
   "execution_count": null,
   "metadata": {},
   "outputs": [],
   "source": [
    "for each in list_error:\n",
    "    print(each['notification'])"
   ]
  },
  {
   "cell_type": "code",
   "execution_count": null,
   "metadata": {},
   "outputs": [],
   "source": [
    "df_all.iloc[475]['facility id']\n",
    "df_all.set_value(475, 'facility id', '50134')"
   ]
  },
  {
   "cell_type": "code",
   "execution_count": null,
   "metadata": {},
   "outputs": [],
   "source": [
    "df_all.iloc[476]\n",
    "df_all.set_value(476, 'facility id', '50134')"
   ]
  },
  {
   "cell_type": "code",
   "execution_count": null,
   "metadata": {},
   "outputs": [],
   "source": [
    "df_all.iloc[477]\n",
    "df_all.set_value(477, 'facility id', '50134')"
   ]
  },
  {
   "cell_type": "code",
   "execution_count": null,
   "metadata": {},
   "outputs": [],
   "source": [
    "df_all.iloc[1284]\n",
    "df_all.set_value(1284, 'facility id', '2344')"
   ]
  },
  {
   "cell_type": "code",
   "execution_count": null,
   "metadata": {},
   "outputs": [],
   "source": [
    "list_error = []\n",
    "for index, row in df_all.iterrows():\n",
    "    try:\n",
    "        pd.to_numeric(row['facility id'])\n",
    "    except:\n",
    "        list_error.append(row)\n",
    "list_error"
   ]
  },
  {
   "cell_type": "code",
   "execution_count": null,
   "metadata": {},
   "outputs": [],
   "source": [
    "for each in list_error:\n",
    "    print(each['facility id'])"
   ]
  },
  {
   "cell_type": "code",
   "execution_count": null,
   "metadata": {},
   "outputs": [],
   "source": [
    "for each in list_error:\n",
    "    print(each['notification'])"
   ]
  },
  {
   "cell_type": "code",
   "execution_count": null,
   "metadata": {},
   "outputs": [],
   "source": [
    "df_all.drop(df_all.index[1695])"
   ]
  },
  {
   "cell_type": "code",
   "execution_count": null,
   "metadata": {},
   "outputs": [],
   "source": [
    "list_error = []\n",
    "for index, row in df_all.iterrows():\n",
    "    try:\n",
    "        pd.to_numeric(row['facility id'])\n",
    "    except:\n",
    "        list_error.append(row)\n",
    "        print(index)"
   ]
  },
  {
   "cell_type": "code",
   "execution_count": null,
   "metadata": {
    "collapsed": true
   },
   "outputs": [],
   "source": [
    "df_all = df_all.drop(df_all.index[[1695,\n",
    "2066,\n",
    "2067,\n",
    "3138,\n",
    "3140,\n",
    "3141]])"
   ]
  },
  {
   "cell_type": "code",
   "execution_count": null,
   "metadata": {
    "collapsed": true
   },
   "outputs": [],
   "source": [
    "list_error = []\n",
    "for index, row in df_all.iterrows():\n",
    "    try:\n",
    "        pd.to_numeric(row['facility id'])\n",
    "    except:\n",
    "        list_error.append(row)\n",
    "        print(index)"
   ]
  },
  {
   "cell_type": "code",
   "execution_count": null,
   "metadata": {},
   "outputs": [],
   "source": [
    "df_all.head()"
   ]
  },
  {
   "cell_type": "code",
   "execution_count": null,
   "metadata": {},
   "outputs": [],
   "source": [
    "index_row = []\n",
    "for index, row in df_all.iterrows():\n",
    "    try:\n",
    "        if float(row['facility id']) in titlev_list:\n",
    "            df_all.set_value(index, 'facility_type', 't')\n",
    "        elif float(row['facility id']) in reclaim_list:\n",
    "            df_all.set_value(index, 'facility_type', 'r')\n",
    "        else:\n",
    "            df_all.set_value(index, 'facility_type', 'n')\n",
    "    except:\n",
    "        index_row.append(row)\n",
    "index_row"
   ]
  },
  {
   "cell_type": "code",
   "execution_count": null,
   "metadata": {},
   "outputs": [],
   "source": [
    "index_row = []\n",
    "for index, row in df_all.iterrows():\n",
    "    try:\n",
    "        if float(row['facility id']) in reclaim_titlev_list:\n",
    "            df_all.set_value(index, 'facility_type', 'rt')\n",
    "    except:\n",
    "        index_row.append(row)\n",
    "index_row"
   ]
  },
  {
   "cell_type": "code",
   "execution_count": null,
   "metadata": {},
   "outputs": [],
   "source": [
    "df_all.head()"
   ]
  },
  {
   "cell_type": "code",
   "execution_count": null,
   "metadata": {},
   "outputs": [],
   "source": [
    "df_all.shape"
   ]
  },
  {
   "cell_type": "code",
   "execution_count": null,
   "metadata": {},
   "outputs": [],
   "source": [
    "df_rt = df_all[(df_all['facility_type'] == 'rt')]\n",
    "df_rt.head()"
   ]
  },
  {
   "cell_type": "code",
   "execution_count": null,
   "metadata": {},
   "outputs": [],
   "source": [
    "df_facility_average = df_all.groupby(['facility_type'], as_index=False).mean()\n",
    "df_facility_average"
   ]
  },
  {
   "cell_type": "code",
   "execution_count": null,
   "metadata": {
    "collapsed": true
   },
   "outputs": [],
   "source": [
    "punctuation_symbols = []\n",
    "for each in list(punctuation):\n",
    "    punctuation_symbols.append((each))"
   ]
  },
  {
   "cell_type": "code",
   "execution_count": null,
   "metadata": {},
   "outputs": [],
   "source": [
    "set(df_all['facility_type'].tolist())"
   ]
  },
  {
   "cell_type": "code",
   "execution_count": null,
   "metadata": {},
   "outputs": [],
   "source": [
    "len(df_all['facility_type'].tolist())"
   ]
  },
  {
   "cell_type": "code",
   "execution_count": null,
   "metadata": {},
   "outputs": [],
   "source": [
    "df_all = df_all.dropna(subset=['violation_data'])\n",
    "df_all.shape"
   ]
  },
  {
   "cell_type": "code",
   "execution_count": null,
   "metadata": {
    "collapsed": true
   },
   "outputs": [],
   "source": [
    "def remove_puncuation(d):\n",
    "    for each in punctuation_symbols:\n",
    "        d = d.replace(each, '')\n",
    "    return d"
   ]
  },
  {
   "cell_type": "code",
   "execution_count": null,
   "metadata": {
    "collapsed": true
   },
   "outputs": [],
   "source": [
    "def remove_digits(x):\n",
    "    x = ''.join([i for i in x if not i.isdigit()])\n",
    "    return x"
   ]
  },
  {
   "cell_type": "code",
   "execution_count": null,
   "metadata": {
    "collapsed": true
   },
   "outputs": [],
   "source": [
    "df_all['violation_data'] = df_all.violation_data.apply(remove_digits)\n",
    "df_all['violation_data'] = df_all.violation_data.apply(remove_puncuation)\n",
    "df_all['violation_data'] = df_all['violation_data'].str.lower()"
   ]
  },
  {
   "cell_type": "code",
   "execution_count": null,
   "metadata": {},
   "outputs": [],
   "source": [
    "df_all.head()"
   ]
  },
  {
   "cell_type": "code",
   "execution_count": null,
   "metadata": {},
   "outputs": [],
   "source": [
    "df_all['trim_violation_text'] = ''\n",
    "for index, row in df_all.iterrows():\n",
    "    df_all.set_value(index, 'trim_violation_text', re.sub(r' +', ' ', str(row['violation_data'])))\n",
    "df_all.head()"
   ]
  },
  {
   "cell_type": "code",
   "execution_count": null,
   "metadata": {},
   "outputs": [],
   "source": [
    "df_all['violation_data'].isnull().sum()"
   ]
  },
  {
   "cell_type": "code",
   "execution_count": null,
   "metadata": {
    "collapsed": true
   },
   "outputs": [],
   "source": [
    "facility_type_ = dict()\n",
    "type_list = ['rt', 't', 'r', 'n']\n",
    "for each in type_list:\n",
    "    text = ' '.join(df_all.loc[df_all['facility_type'] == each, 'trim_violation_text'].values)\n",
    "    facility_type_[each] = word_tokenize(text)"
   ]
  },
  {
   "cell_type": "code",
   "execution_count": null,
   "metadata": {
    "collapsed": true
   },
   "outputs": [],
   "source": [
    "none_top100 = Counter(facility_type_['n']).most_common(100)\n",
    "reclaim_top100 = Counter(facility_type_['r']).most_common(100)\n",
    "titlev_top100 = Counter(facility_type_['t']).most_common(100)\n",
    "reclaim_titlev_top100 = Counter(facility_type_['rt']).most_common(100)"
   ]
  },
  {
   "cell_type": "code",
   "execution_count": null,
   "metadata": {
    "collapsed": true
   },
   "outputs": [],
   "source": [
    "def create_wordcloud(d):\n",
    "    wordcloud = WordCloud(background_color='white',\n",
    "                          max_words=75, \n",
    "                          max_font_size=40,\n",
    "                          random_state=42).generate(str(d))\n",
    "    return wordcloud"
   ]
  },
  {
   "cell_type": "code",
   "execution_count": null,
   "metadata": {},
   "outputs": [],
   "source": [
    "fig, axes = plt.subplots(2, 2, figsize=(30, 15))\n",
    "\n",
    "ax = axes[0, 0]\n",
    "ax.imshow(create_wordcloud(none_top100), interpolation=\"bilinear\")\n",
    "ax.axis('off')\n",
    "ax.set_title(\"Non-RECLAIM/Title V Top 100 Tokens\", fontsize=30)\n",
    "\n",
    "ax = axes[0, 1]\n",
    "ax.imshow(create_wordcloud(reclaim_top100))\n",
    "ax.axis('off')\n",
    "ax.set_title(\"RECLAIM Top 100 Tokens\", fontsize=30)\n",
    "\n",
    "ax = axes[1, 0]\n",
    "ax.imshow(create_wordcloud(titlev_top100))\n",
    "ax.axis('off')\n",
    "ax.set_title(\"Title V Top 100 Tokens\", fontsize=30)\n",
    "\n",
    "ax = axes[1, 1]\n",
    "ax.imshow(create_wordcloud(reclaim_titlev_top100))\n",
    "ax.axis('off')\n",
    "ax.set_title(\"RECLAIM/Title V Top 100 Tokens\", fontsize=30)\n",
    "plt.show()"
   ]
  },
  {
   "cell_type": "code",
   "execution_count": null,
   "metadata": {},
   "outputs": [],
   "source": [
    "plt.subplot(1, 3, 1)\n",
    "(df_all['Total']).plot.hist(bins=50, figsize=(20,10), edgecolor='white',range=[0,1500000])\n",
    "plt.xlabel('Settlement Cost', fontsize=17)\n",
    "plt.ylabel('Frequency', fontsize=17)\n",
    "plt.tick_params(labelsize=15)\n",
    "plt.title('Settlement Distribution :: $0-$,1,500,000', fontsize=17)\n",
    "\n",
    "plt.subplot(1, 3, 2)\n",
    "(df_all['Total']).plot.hist(bins=50, figsize=(20,10), edgecolor='white',range=[0,25000])\n",
    "plt.xlabel('Settlement Cost', fontsize=17)\n",
    "plt.ylabel('Frequency', fontsize=17)\n",
    "plt.tick_params(labelsize=15)\n",
    "plt.title('Settlement Distribution :: $0-$25,000', fontsize=17)\n",
    "\n",
    "plt.subplot(1, 3, 3)\n",
    "(np.log(df_all['Total'] + 1)).plot.hist(bins=50, figsize=(20,10), edgecolor='white',range=[0,17])\n",
    "plt.xlabel('Settlement Cost', fontsize=17)\n",
    "plt.ylabel('Frequency', fontsize=17)\n",
    "plt.tick_params(labelsize=15)\n",
    "plt.title('Settlement Distribution :: log(x + 1)', fontsize=17)\n",
    "plt.show()\n",
    "\n",
    "#https://www.quora.com/What-are-the-downsides-when-using-log-x-+-1-as-ones-log-transformation\n",
    "#http://onbiostatistics.blogspot.com/2012/05/logx1-data-transformation.html"
   ]
  },
  {
   "cell_type": "code",
   "execution_count": null,
   "metadata": {},
   "outputs": [],
   "source": [
    "facility_count = df_all[['Total','facility_type']].groupby(['facility_type'], as_index =False).count()\n",
    "facility_count"
   ]
  },
  {
   "cell_type": "code",
   "execution_count": null,
   "metadata": {},
   "outputs": [],
   "source": [
    "sns.barplot(facility_count['facility_type'], facility_count['Total'])\n",
    "plt.grid(True)\n",
    "plt.ylim(0, 3000, 100)\n",
    "plt.xlabel('Facility Type', fontsize = 14)\n",
    "plt.ylabel('Number of Violations', fontsize = 14)\n",
    "plt.title('Number of Violations By Facility Type', fontsize = 14)\n",
    "plt.show()"
   ]
  },
  {
   "cell_type": "code",
   "execution_count": null,
   "metadata": {
    "collapsed": true
   },
   "outputs": [],
   "source": [
    "df_none = df_all[df_all['facility_type'] == 'n'].reset_index(drop=True)\n",
    "df_rt = df_all[df_all['facility_type'] == 'rt'].reset_index(drop=True)\n",
    "df_r = df_all[df_all['facility_type'] == 'r'].reset_index(drop=True)\n",
    "df_t = df_all[df_all['facility_type'] == 't'].reset_index(drop=True)"
   ]
  },
  {
   "cell_type": "code",
   "execution_count": null,
   "metadata": {},
   "outputs": [],
   "source": [
    "plt.subplot(1, 3, 1)\n",
    "(df_none['Total']).plot.hist(bins=50, figsize=(20,10), edgecolor='white',range=[0,1500000])\n",
    "plt.xlabel('Settlement Cost', fontsize=17)\n",
    "plt.ylabel('Frequency', fontsize=17)\n",
    "plt.tick_params(labelsize=15)\n",
    "plt.title('Settlement Distribution :: $0-$,1,500,000', fontsize=17)\n",
    "\n",
    "plt.subplot(1, 3, 2)\n",
    "(df_none['Total']).plot.hist(bins=50, figsize=(20,10), edgecolor='white',range=[0,25000])\n",
    "plt.xlabel('Settlement Cost', fontsize=17)\n",
    "plt.ylabel('Frequency', fontsize=17)\n",
    "plt.tick_params(labelsize=15)\n",
    "plt.title('Settlement Distribution :: $0-$25,000', fontsize=17)\n",
    "\n",
    "plt.subplot(1, 3, 3)\n",
    "(np.log(df_none['Total'] + 1)).plot.hist(bins=50, figsize=(20,10), edgecolor='white',range=[0,17])\n",
    "plt.xlabel('Settlement Cost', fontsize=17)\n",
    "plt.ylabel('Frequency', fontsize=17)\n",
    "plt.tick_params(labelsize=15)\n",
    "plt.title('Settlement Distribution :: log(x + 1)', fontsize=17)\n",
    "plt.show()"
   ]
  },
  {
   "cell_type": "code",
   "execution_count": null,
   "metadata": {},
   "outputs": [],
   "source": [
    "plt.subplot(1, 3, 1)\n",
    "(df_rt['Total']).plot.hist(bins=50, figsize=(20,10), edgecolor='white',range=[0,1500000])\n",
    "plt.xlabel('Settlement Cost', fontsize=17)\n",
    "plt.ylabel('Frequency', fontsize=17)\n",
    "plt.tick_params(labelsize=15)\n",
    "plt.title('Settlement Distribution :: $0-$,1,500,000', fontsize=17)\n",
    "\n",
    "plt.subplot(1, 3, 2)\n",
    "(df_rt['Total']).plot.hist(bins=50, figsize=(20,10), edgecolor='white',range=[0,25000])\n",
    "plt.xlabel('Settlement Cost', fontsize=17)\n",
    "plt.ylabel('Frequency', fontsize=17)\n",
    "plt.tick_params(labelsize=15)\n",
    "plt.title('Settlement Distribution :: $0-$25,000', fontsize=17)\n",
    "\n",
    "plt.subplot(1, 3, 3)\n",
    "(np.log(df_rt['Total'] + 1)).plot.hist(bins=50, figsize=(20,10), edgecolor='white',range=[0,17])\n",
    "plt.xlabel('Settlement Cost', fontsize=17)\n",
    "plt.ylabel('Frequency', fontsize=17)\n",
    "plt.tick_params(labelsize=15)\n",
    "plt.title('Settlement Distribution :: log(x + 1)', fontsize=17)\n",
    "plt.show()"
   ]
  },
  {
   "cell_type": "code",
   "execution_count": null,
   "metadata": {},
   "outputs": [],
   "source": [
    "plt.subplot(1, 3, 1)\n",
    "(df_r['Total']).plot.hist(bins=50, figsize=(20,10), edgecolor='white',range=[0,1500000])\n",
    "plt.xlabel('Settlement Cost', fontsize=17)\n",
    "plt.ylabel('Frequency', fontsize=17)\n",
    "plt.tick_params(labelsize=15)\n",
    "plt.title('Settlement Distribution :: $0-$,1,500,000', fontsize=17)\n",
    "\n",
    "plt.subplot(1, 3, 2)\n",
    "(df_r['Total']).plot.hist(bins=50, figsize=(20,10), edgecolor='white',range=[0,25000])\n",
    "plt.xlabel('Settlement Cost', fontsize=17)\n",
    "plt.ylabel('Frequency', fontsize=17)\n",
    "plt.tick_params(labelsize=15)\n",
    "plt.title('Settlement Distribution :: $0-$25,000', fontsize=17)\n",
    "\n",
    "plt.subplot(1, 3, 3)\n",
    "(np.log(df_r['Total'] + 1)).plot.hist(bins=50, figsize=(20,10), edgecolor='white',range=[0,17])\n",
    "plt.xlabel('Settlement Cost', fontsize=17)\n",
    "plt.ylabel('Frequency', fontsize=17)\n",
    "plt.tick_params(labelsize=15)\n",
    "plt.title('Settlement Distribution :: log(x + 1)', fontsize=17)\n",
    "plt.show()"
   ]
  },
  {
   "cell_type": "code",
   "execution_count": null,
   "metadata": {},
   "outputs": [],
   "source": [
    "plt.subplot(1, 3, 1)\n",
    "(df_t['Total']).plot.hist(bins=50, figsize=(20,10), edgecolor='white',range=[0,1500000])\n",
    "plt.xlabel('Settlement Cost', fontsize=17)\n",
    "plt.ylabel('Frequency', fontsize=17)\n",
    "plt.tick_params(labelsize=15)\n",
    "plt.title('Settlement Distribution :: $0-$,1,500,000', fontsize=17)\n",
    "\n",
    "plt.subplot(1, 3, 2)\n",
    "(df_t['Total']).plot.hist(bins=50, figsize=(20,10), edgecolor='white',range=[0,25000])\n",
    "plt.xlabel('Settlement Cost', fontsize=17)\n",
    "plt.ylabel('Frequency', fontsize=17)\n",
    "plt.tick_params(labelsize=15)\n",
    "plt.title('Settlement Distribution :: $0-$25,000', fontsize=17)\n",
    "\n",
    "plt.subplot(1, 3, 3)\n",
    "(np.log(df_t['Total'] + 1)).plot.hist(bins=50, figsize=(20,10), edgecolor='white',range=[0,17])\n",
    "plt.xlabel('Settlement Cost', fontsize=17)\n",
    "plt.ylabel('Frequency', fontsize=17)\n",
    "plt.tick_params(labelsize=15)\n",
    "plt.title('Settlement Distribution :: log(x + 1)', fontsize=17)\n",
    "plt.show()"
   ]
  },
  {
   "cell_type": "code",
   "execution_count": null,
   "metadata": {},
   "outputs": [],
   "source": [
    "sns.set_style('whitegrid')\n",
    "data = df_all[df_all['Total'] < 20000]\n",
    "ax = sns.boxplot(x=\"Total\", y=\"facility_type\", data=data)\n",
    "plt.xlabel('Settlement Cost', fontsize=17)\n",
    "plt.ylabel('Facility Type', fontsize=17)\n",
    "plt.show()"
   ]
  },
  {
   "cell_type": "code",
   "execution_count": null,
   "metadata": {
    "collapsed": true
   },
   "outputs": [],
   "source": [
    "min_df = 0.01\n",
    "max_df = 0.90\n",
    "vect = CountVectorizer(stop_words='english', min_df=min_df, max_df=max_df, ngram_range=(3,4))"
   ]
  },
  {
   "cell_type": "code",
   "execution_count": null,
   "metadata": {
    "collapsed": true
   },
   "outputs": [],
   "source": [
    "X = df_all['violation_data']\n",
    "y = df_all['facility_type']"
   ]
  },
  {
   "cell_type": "code",
   "execution_count": null,
   "metadata": {
    "collapsed": true
   },
   "outputs": [],
   "source": [
    "def determine_length(d):\n",
    "    d = d.split(' ')\n",
    "    return len(d)"
   ]
  },
  {
   "cell_type": "code",
   "execution_count": null,
   "metadata": {
    "collapsed": true
   },
   "outputs": [],
   "source": [
    "df_all['violation_length'] = df_all['trim_violation_text'].apply(determine_length)"
   ]
  },
  {
   "cell_type": "code",
   "execution_count": null,
   "metadata": {},
   "outputs": [],
   "source": [
    "df_all.iloc[1]['trim_violation_text'].split(' ')"
   ]
  },
  {
   "cell_type": "code",
   "execution_count": null,
   "metadata": {},
   "outputs": [],
   "source": [
    "df_all.iloc[1]['violation_length']"
   ]
  },
  {
   "cell_type": "code",
   "execution_count": null,
   "metadata": {},
   "outputs": [],
   "source": [
    "df_all.head()"
   ]
  },
  {
   "cell_type": "code",
   "execution_count": null,
   "metadata": {},
   "outputs": [],
   "source": [
    "df_len_cost = df_all[['Total', 'violation_length']].groupby(['violation_length'], as_index=False).mean()\n",
    "df_len_cost.head()"
   ]
  },
  {
   "cell_type": "code",
   "execution_count": null,
   "metadata": {},
   "outputs": [],
   "source": [
    "plt.figure(figsize = (10, 10))\n",
    "sns.jointplot(x=df_len_cost[\"Total\"], y=df_len_cost[\"violation_length\"], kind='kde', color = 'b')\n",
    "plt.show()"
   ]
  },
  {
   "cell_type": "code",
   "execution_count": null,
   "metadata": {},
   "outputs": [],
   "source": [
    "x = np.log(df_len_cost['violation_length'])\n",
    "y = np.log(df_len_cost['Total'])\n",
    "plt.scatter(x, y)\n",
    "plt.plot(x, y)\n",
    "plt.ylabel('log(Average Settlement Cost)')\n",
    "plt.xlabel('log(Length of Violation (number of words))')\n",
    "plt.title('Average Settlement Cost vs Length of Violation')\n",
    "plt.show()"
   ]
  },
  {
   "cell_type": "code",
   "execution_count": null,
   "metadata": {},
   "outputs": [],
   "source": [
    "x = (df_len_cost['violation_length'])\n",
    "y = np.log(df_len_cost['Total'])\n",
    "plt.scatter(x, y)\n",
    "plt.plot(x, y)\n",
    "plt.ylabel('log(Average Settlement Cost)')\n",
    "plt.xlabel('log(Length of Violation (number of words))')\n",
    "plt.title('Average Settlement Cost vs Length of Violation')\n",
    "plt.show()"
   ]
  },
  {
   "cell_type": "markdown",
   "metadata": {},
   "source": [
    "This is a PCA of the initial dataset using `n_components = 2`"
   ]
  },
  {
   "cell_type": "code",
   "execution_count": null,
   "metadata": {},
   "outputs": [],
   "source": [
    "min_df = 0.01\n",
    "max_df = 0.90\n",
    "vect = CountVectorizer(stop_words='english', min_df=min_df, max_df=max_df, ngram_range=(3,4))\n",
    "X_dtm = vect.fit_transform(X)\n",
    "pca = PCA(n_components = 2)\n",
    "pca_results = pca.fit_transform(X_dtm.toarray())\n",
    "print('Size of Feature Vector is: ', len(X_dtm.toarray()[0]))"
   ]
  },
  {
   "cell_type": "code",
   "execution_count": null,
   "metadata": {},
   "outputs": [],
   "source": [
    "pca.explained_variance_ratio_"
   ]
  },
  {
   "cell_type": "code",
   "execution_count": null,
   "metadata": {},
   "outputs": [],
   "source": [
    "print('Total Variance', (pca.explained_variance_ratio_[0] + pca.explained_variance_ratio_[1]) * 100, '%')"
   ]
  },
  {
   "cell_type": "code",
   "execution_count": null,
   "metadata": {},
   "outputs": [],
   "source": [
    "per_var = np.round(pca.explained_variance_ratio_ * 100, decimals = 1)\n",
    "labels = ['PC' + str(x) for x in range(1, len(per_var)+1)]\n",
    "plt.bar(x = range(1, len(per_var)+1), height=per_var, tick_label = labels)\n",
    "plt.xlabel('Principal Component', fontsize = 14)\n",
    "plt.ylabel('% of Explained Variance', fontsize = 14)\n",
    "plt.show()"
   ]
  },
  {
   "cell_type": "code",
   "execution_count": null,
   "metadata": {
    "collapsed": true
   },
   "outputs": [],
   "source": [
    "pca_df = pd.DataFrame(pca_results, columns=['x', 'y'])\n",
    "pca_df['violation_text'] = df_all['violation_data']\n",
    "pca_df['facility_type'] = df_all['facility_type']\n",
    "pca_df['Total_Settlement'] = df_all['Total']"
   ]
  },
  {
   "cell_type": "code",
   "execution_count": null,
   "metadata": {},
   "outputs": [],
   "source": [
    "pca_df.head()"
   ]
  },
  {
   "cell_type": "code",
   "execution_count": null,
   "metadata": {},
   "outputs": [],
   "source": [
    "sns.lmplot( x=\"x\", y=\"y\", data=pca_df, fit_reg=False, hue='facility_type', legend=False)\n",
    "plt.legend(loc='lower right')\n",
    "plt.xlabel('PC-1', fontsize = 14)\n",
    "plt.ylabel('PC-2', fontsize = 14)\n",
    "plt.show()"
   ]
  },
  {
   "cell_type": "code",
   "execution_count": null,
   "metadata": {},
   "outputs": [],
   "source": [
    "pc1_df = pca_df[(pca_df['x'] > 1) & (pca_df['y'] < 1)].reset_index(drop=True)\n",
    "print(pc1_df.loc[159]['violation_text'])\n",
    "print('---')\n",
    "print(pc1_df.loc[100]['violation_text'])"
   ]
  },
  {
   "cell_type": "markdown",
   "metadata": {},
   "source": [
    "This is a tSNE of the initial dataset using `learning_rate=100` and `perplexity=40`"
   ]
  },
  {
   "cell_type": "code",
   "execution_count": null,
   "metadata": {
    "collapsed": true
   },
   "outputs": [],
   "source": [
    "X = df_all['violation_data']\n",
    "y = df_all['facility_type']\n",
    "min_df = 0.01\n",
    "max_df = 0.90\n",
    "vect = CountVectorizer(stop_words='english', min_df=min_df, max_df=max_df, ngram_range=(3,4))\n",
    "X_dtm = vect.fit_transform(X)"
   ]
  },
  {
   "cell_type": "code",
   "execution_count": null,
   "metadata": {},
   "outputs": [],
   "source": [
    "start = time.time()\n",
    "\n",
    "model = TSNE(learning_rate=100, perplexity=40)\n",
    "transformed = model.fit_transform(X_dtm.toarray())\n",
    "\n",
    "end = time.time()\n",
    "print('Elapsed time: ', end - start, 'seconds')"
   ]
  },
  {
   "cell_type": "code",
   "execution_count": null,
   "metadata": {},
   "outputs": [],
   "source": [
    "tsne_df = pd.DataFrame(transformed, columns=['x', 'y'])\n",
    "tsne_df['violation_text'] = df_all['trim_violation_text']\n",
    "tsne_df['facility_type'] = df_all['facility_type']\n",
    "tsne_df['Total_Settlement'] = df_all['Total']\n",
    "tsne_df.head()"
   ]
  },
  {
   "cell_type": "code",
   "execution_count": null,
   "metadata": {},
   "outputs": [],
   "source": [
    "plt.figure(figsize=(20,10))\n",
    "sns.lmplot( x=\"x\", y=\"y\", data=tsne_df, fit_reg=False, hue='facility_type', legend=False)\n",
    "plt.legend(loc='lower right')\n",
    "plt.show()"
   ]
  },
  {
   "cell_type": "markdown",
   "metadata": {},
   "source": [
    "This is a SVD of the initial dataset using `n_components = 2`"
   ]
  },
  {
   "cell_type": "code",
   "execution_count": null,
   "metadata": {
    "collapsed": true
   },
   "outputs": [],
   "source": [
    "X = df_all['violation_data']\n",
    "y = df_all['facility_type']\n",
    "min_df = 0.01\n",
    "max_df = 0.90\n",
    "vect = CountVectorizer(stop_words='english', min_df=min_df, max_df=max_df, ngram_range=(3,4))\n",
    "X_dtm = vect.fit_transform(X)"
   ]
  },
  {
   "cell_type": "code",
   "execution_count": null,
   "metadata": {
    "collapsed": true
   },
   "outputs": [],
   "source": [
    "from sklearn.decomposition import TruncatedSVD\n",
    "svd = TruncatedSVD(n_components=2)\n",
    "svd_ctv = svd.fit_transform(X_dtm)"
   ]
  },
  {
   "cell_type": "code",
   "execution_count": null,
   "metadata": {},
   "outputs": [],
   "source": [
    "svd_df = pd.DataFrame(svd_ctv, columns=['x', 'y'])\n",
    "svd_df['violation_text'] = df_all['trim_violation_text']\n",
    "svd_df['facility_type'] = df_all['facility_type']\n",
    "svd_df['Total_Settlement'] = df_all['Total']\n",
    "svd_df.head()"
   ]
  },
  {
   "cell_type": "code",
   "execution_count": null,
   "metadata": {},
   "outputs": [],
   "source": [
    "plt.figure(figsize=(20,10))\n",
    "sns.lmplot( x=\"x\", y=\"y\", data=svd_df, fit_reg=False, hue='facility_type', legend=False)\n",
    "plt.legend(loc='lower right')\n",
    "plt.show()"
   ]
  },
  {
   "cell_type": "markdown",
   "metadata": {
    "collapsed": true
   },
   "source": [
    "## k-Means on the initial dataset"
   ]
  },
  {
   "cell_type": "code",
   "execution_count": null,
   "metadata": {},
   "outputs": [],
   "source": [
    "X = df_all['trim_violation_text']\n",
    "y = df_all['facility_type']\n",
    "min_df = 0.01\n",
    "max_df = 0.90\n",
    "vect = CountVectorizer(stop_words='english', min_df=min_df, max_df=max_df, ngram_range=(3,4))\n",
    "X_dtm = vect.fit_transform(X)\n",
    "print('Size of Feature Vector is: ', len(X_dtm.toarray()[0]))"
   ]
  },
  {
   "cell_type": "code",
   "execution_count": null,
   "metadata": {},
   "outputs": [],
   "source": [
    "start = time.time()\n",
    "\n",
    "metric_ = []\n",
    "silhouette_avg_ = []\n",
    "for i in range(2, 25):\n",
    "    kmeans = KMeans(n_clusters=i, random_state=10)\n",
    "    kmeans.fit(X_dtm)\n",
    "    metric_.append(kmeans.inertia_)\n",
    "    labels = kmeans.predict(X_dtm)\n",
    "    silhouette_avg = silhouette_score(X_dtm, labels)\n",
    "    silhouette_avg_.append(silhouette_avg)\n",
    "\n",
    "end = time.time()\n",
    "print('Elapsed time: ', end - start, 'seconds')"
   ]
  },
  {
   "cell_type": "code",
   "execution_count": null,
   "metadata": {},
   "outputs": [],
   "source": [
    "cluster = [x for x in range(2, 25)]\n",
    "plt.scatter(cluster, metric_)\n",
    "plt.plot(cluster, metric_)\n",
    "plt.ylabel('k-means Inertia')\n",
    "plt.xlabel('Number of Clusters')\n",
    "plt.title('Elbow Chart of k-Means Clusters')\n",
    "plt.show()"
   ]
  },
  {
   "cell_type": "code",
   "execution_count": null,
   "metadata": {},
   "outputs": [],
   "source": [
    "cluster = [x for x in range(2, 25)]\n",
    "plt.scatter(cluster, silhouette_avg_)\n",
    "plt.plot(cluster, silhouette_avg_)\n",
    "plt.ylabel('k-means Silhouette Average')\n",
    "plt.xlabel('Number of Clusters')\n",
    "plt.title('Silhouette Average of k-Means Clusters')\n",
    "plt.show()"
   ]
  },
  {
   "cell_type": "code",
   "execution_count": null,
   "metadata": {},
   "outputs": [],
   "source": [
    "silhouette_avg_"
   ]
  },
  {
   "cell_type": "code",
   "execution_count": null,
   "metadata": {},
   "outputs": [],
   "source": [
    "silhouette_avg_[5]"
   ]
  },
  {
   "cell_type": "code",
   "execution_count": null,
   "metadata": {},
   "outputs": [],
   "source": [
    "X_dtm = vect.fit_transform(X)\n",
    "kmeans = KMeans(n_clusters=7, random_state=10)\n",
    "kmeans.fit(X_dtm)\n",
    "labels = kmeans.predict(X_dtm)\n",
    "labels"
   ]
  },
  {
   "cell_type": "code",
   "execution_count": null,
   "metadata": {},
   "outputs": [],
   "source": [
    "kmeans_df = pd.DataFrame()\n",
    "kmeans_df['violation_text'] = df_all['trim_violation_text']\n",
    "kmeans_df['facility_type'] = df_all['facility_type']\n",
    "kmeans_df['Total_Settlement'] = df_all['Total']\n",
    "kmeans_df['Cluster'] = labels\n",
    "kmeans_df['notification'] = df_all['notification']\n",
    "kmeans_df['facility_id'] = df_all['facility id']\n",
    "kmeans_df.head(10)"
   ]
  },
  {
   "cell_type": "code",
   "execution_count": null,
   "metadata": {},
   "outputs": [],
   "source": [
    "kmeans_df[kmeans_df['Cluster'] ==  2].to_csv('cluster2.csv', index=False)"
   ]
  },
  {
   "cell_type": "code",
   "execution_count": null,
   "metadata": {
    "collapsed": true
   },
   "outputs": [],
   "source": [
    "facility_type_ = dict()\n",
    "type_list = range(0, 7)\n",
    "for each in type_list:\n",
    "    text = ' '.join(kmeans_df.loc[kmeans_df['Cluster'] == each, 'violation_text'].values)\n",
    "    facility_type_[each] = word_tokenize(text)"
   ]
  },
  {
   "cell_type": "code",
   "execution_count": null,
   "metadata": {},
   "outputs": [],
   "source": [
    "Counter(facility_type_[0]).most_common(20)"
   ]
  },
  {
   "cell_type": "code",
   "execution_count": null,
   "metadata": {},
   "outputs": [],
   "source": [
    "Counter(facility_type_[1]).most_common(20)"
   ]
  },
  {
   "cell_type": "code",
   "execution_count": null,
   "metadata": {},
   "outputs": [],
   "source": [
    "Counter(facility_type_[2]).most_common(20)"
   ]
  },
  {
   "cell_type": "code",
   "execution_count": null,
   "metadata": {},
   "outputs": [],
   "source": [
    "Counter(facility_type_[3]).most_common(20)"
   ]
  },
  {
   "cell_type": "code",
   "execution_count": null,
   "metadata": {},
   "outputs": [],
   "source": [
    "Counter(facility_type_[4]).most_common(20)"
   ]
  },
  {
   "cell_type": "code",
   "execution_count": null,
   "metadata": {},
   "outputs": [],
   "source": [
    "Counter(facility_type_[5]).most_common(20)"
   ]
  },
  {
   "cell_type": "code",
   "execution_count": null,
   "metadata": {},
   "outputs": [],
   "source": [
    "Counter(facility_type_[6]).most_common(20)"
   ]
  },
  {
   "cell_type": "code",
   "execution_count": null,
   "metadata": {
    "collapsed": true
   },
   "outputs": [],
   "source": [
    "group_zero = Counter(facility_type_[0]).most_common(100)\n",
    "group_one = Counter(facility_type_[1]).most_common(100)\n",
    "group_two = Counter(facility_type_[2]).most_common(100)\n",
    "group_three = Counter(facility_type_[3]).most_common(100)\n",
    "group_four = Counter(facility_type_[4]).most_common(100)\n",
    "group_five = Counter(facility_type_[5]).most_common(100)\n",
    "group_six = Counter(facility_type_[6]).most_common(100)"
   ]
  },
  {
   "cell_type": "code",
   "execution_count": null,
   "metadata": {
    "collapsed": true
   },
   "outputs": [],
   "source": [
    "def create_wordcloud(d):\n",
    "    wordcloud = WordCloud(background_color='white',\n",
    "                          max_words=50, \n",
    "                          max_font_size=40,\n",
    "                          random_state=42).generate(str(d))\n",
    "    return wordcloud"
   ]
  },
  {
   "cell_type": "code",
   "execution_count": null,
   "metadata": {},
   "outputs": [],
   "source": [
    "fig, axes = plt.subplots(4, 2, figsize=(30, 30))\n",
    "\n",
    "ax = axes[0, 0]\n",
    "ax.imshow(create_wordcloud(group_zero), interpolation=\"bilinear\")\n",
    "ax.axis('off')\n",
    "ax.set_title(\"Cluster 0\", fontsize=30)\n",
    "\n",
    "ax = axes[0, 1]\n",
    "ax.imshow(create_wordcloud(group_one))\n",
    "ax.axis('off')\n",
    "ax.set_title(\"Cluster 1\", fontsize=30)\n",
    "\n",
    "ax = axes[1, 0]\n",
    "ax.imshow(create_wordcloud(group_two))\n",
    "ax.axis('off')\n",
    "ax.set_title(\"Cluster 2\", fontsize=30)\n",
    "\n",
    "ax = axes[1, 1]\n",
    "ax.imshow(create_wordcloud(group_three))\n",
    "ax.axis('off')\n",
    "ax.set_title(\"Cluster 3\", fontsize=30)\n",
    "\n",
    "ax = axes[2, 0]\n",
    "ax.imshow(create_wordcloud(group_four))\n",
    "ax.axis('off')\n",
    "ax.set_title(\"Cluster 4\", fontsize=30)\n",
    "\n",
    "ax = axes[2, 1]\n",
    "ax.imshow(create_wordcloud(group_five))\n",
    "ax.axis('off')\n",
    "ax.set_title(\"Cluster 5\", fontsize=30)\n",
    "plt.show()\n",
    "\n",
    "ax = axes[3, 0]\n",
    "ax.imshow(create_wordcloud(group_six))\n",
    "ax.axis('off')\n",
    "ax.set_title(\"Cluster 6\", fontsize=30)\n",
    "plt.show()"
   ]
  },
  {
   "cell_type": "code",
   "execution_count": null,
   "metadata": {},
   "outputs": [],
   "source": [
    "df_cross_tab = kmeans_df.iloc[:, 1:4]\n",
    "cross_tab_summary = pd.crosstab(df_cross_tab['facility_type'], df_cross_tab['Cluster'])\n",
    "cross_tab_summary "
   ]
  },
  {
   "cell_type": "code",
   "execution_count": null,
   "metadata": {},
   "outputs": [],
   "source": [
    "start = time.time()\n",
    "\n",
    "model = TSNE(learning_rate=100, perplexity=50)\n",
    "transformed = model.fit_transform(X_dtm.toarray())\n",
    "\n",
    "end = time.time()\n",
    "print('Elapsed time: ', end - start, 'seconds')"
   ]
  },
  {
   "cell_type": "code",
   "execution_count": null,
   "metadata": {
    "collapsed": true
   },
   "outputs": [],
   "source": [
    "tsne_df = pd.DataFrame(transformed, columns=['x', 'y'])\n",
    "tsne_df['violation_text'] = kmeans_df['violation_text']\n",
    "tsne_df['facility_type'] = kmeans_df['facility_type']\n",
    "tsne_df['Total_Settlement'] = kmeans_df['Total_Settlement'] \n",
    "tsne_df['Cluster'] = labels"
   ]
  },
  {
   "cell_type": "code",
   "execution_count": null,
   "metadata": {},
   "outputs": [],
   "source": [
    "tsne_df.head()"
   ]
  },
  {
   "cell_type": "code",
   "execution_count": null,
   "metadata": {},
   "outputs": [],
   "source": [
    "tsne_df.shape"
   ]
  },
  {
   "cell_type": "code",
   "execution_count": null,
   "metadata": {},
   "outputs": [],
   "source": [
    "tsne_df['violation_text'].isnull().sum()"
   ]
  },
  {
   "cell_type": "code",
   "execution_count": null,
   "metadata": {},
   "outputs": [],
   "source": [
    "tsne_df = tsne_df.dropna(axis=0, how='any')"
   ]
  },
  {
   "cell_type": "code",
   "execution_count": null,
   "metadata": {},
   "outputs": [],
   "source": [
    "tsne_df.shape"
   ]
  },
  {
   "cell_type": "code",
   "execution_count": null,
   "metadata": {},
   "outputs": [],
   "source": [
    "plt.figure(figsize=(20,10))\n",
    "sns.lmplot( x=\"x\", y=\"y\", data=tsne_df, fit_reg=False, hue='Cluster', legend=False)\n",
    "plt.legend(loc='lower right')\n",
    "plt.show()"
   ]
  },
  {
   "cell_type": "code",
   "execution_count": null,
   "metadata": {
    "collapsed": true
   },
   "outputs": [],
   "source": [
    "def tsne_run(lr, perp):\n",
    "    start = time.time()\n",
    "\n",
    "    X = df_all['violation_data']\n",
    "    y = df_all['facility_type']\n",
    "\n",
    "    min_df = 0.01\n",
    "    max_df = 0.90\n",
    "\n",
    "    vect = CountVectorizer(stop_words='english', min_df=min_df, max_df=max_df, ngram_range=(3,4))\n",
    "    X_dtm = vect.fit_transform(X)\n",
    "\n",
    "    kmeans = KMeans(n_clusters=6, random_state=10)\n",
    "    kmeans.fit(X_dtm)\n",
    "    labels = kmeans.predict(X_dtm)\n",
    "    \n",
    "    kmeans_df = pd.DataFrame()\n",
    "    kmeans_df['violation_text'] = df_all['trim_violation_text']\n",
    "    kmeans_df['facility_type'] = df_all['facility_type']\n",
    "    kmeans_df['Total_Settlement'] = df_all['Total']\n",
    "    kmeans_df['Cluster'] = labels\n",
    "\n",
    "    model = TSNE(learning_rate=lr, perplexity=perp)\n",
    "    transformed = model.fit_transform(X_dtm.toarray())\n",
    "\n",
    "    tsne_df = pd.DataFrame(transformed, columns=['x', 'y'])\n",
    "    tsne_df['violation_text'] = kmeans_df['violation_text']\n",
    "    tsne_df['facility_type'] = kmeans_df['facility_type']\n",
    "    tsne_df['Total_Settlement'] = kmeans_df['Total_Settlement'] \n",
    "    tsne_df['Cluster'] = labels\n",
    "\n",
    "    plt.figure(figsize=(20,10))\n",
    "    sns.lmplot( x=\"x\", y=\"y\", data=tsne_df, fit_reg=False, hue='Cluster', legend=False)\n",
    "    plt.legend(loc='lower right')\n",
    "    plt.show()\n",
    "\n",
    "    end = time.time()\n",
    "    print('Elapsed time: ', end - start, 'seconds')"
   ]
  },
  {
   "cell_type": "code",
   "execution_count": null,
   "metadata": {},
   "outputs": [],
   "source": [
    "tsne_run(90, 50)"
   ]
  },
  {
   "cell_type": "code",
   "execution_count": null,
   "metadata": {},
   "outputs": [],
   "source": [
    "tsne_run(100, 50)"
   ]
  },
  {
   "cell_type": "code",
   "execution_count": null,
   "metadata": {},
   "outputs": [],
   "source": [
    "tsne_run(150, 50)"
   ]
  },
  {
   "cell_type": "code",
   "execution_count": null,
   "metadata": {},
   "outputs": [],
   "source": [
    "tsne_run(200, 50)"
   ]
  },
  {
   "cell_type": "code",
   "execution_count": null,
   "metadata": {},
   "outputs": [],
   "source": [
    "tsne_run(250, 50)"
   ]
  },
  {
   "cell_type": "code",
   "execution_count": null,
   "metadata": {
    "collapsed": true
   },
   "outputs": [],
   "source": [
    "#https://stackoverflow.com/questions/24647400/what-is-the-best-stemming-method-in-python\n",
    "#https://pythonprogramming.net/stemming-nltk-tutorial/"
   ]
  },
  {
   "cell_type": "code",
   "execution_count": null,
   "metadata": {
    "collapsed": true
   },
   "outputs": [],
   "source": [
    "from nltk.stem.wordnet import WordNetLemmatizer\n",
    "from nltk.stem import PorterStemmer"
   ]
  },
  {
   "cell_type": "code",
   "execution_count": null,
   "metadata": {
    "collapsed": true
   },
   "outputs": [],
   "source": [
    "lmtzr = WordNetLemmatizer()\n",
    "ps = PorterStemmer()"
   ]
  },
  {
   "cell_type": "code",
   "execution_count": null,
   "metadata": {
    "collapsed": true
   },
   "outputs": [],
   "source": [
    "a = 'failure to operate and maintain a continuous monitoring system cms according to rule plan'\n",
    "a_list = a.split(' ')\n",
    "list_= [lmtzr.lemmatize(each) for each in a_list]\n",
    "b = ' '.join(list_)\n",
    "a_list = b.split(' ')\n",
    "list_= [ps.stem(each) for each in a_list]\n",
    "a = ' '.join(list_)"
   ]
  },
  {
   "cell_type": "code",
   "execution_count": null,
   "metadata": {},
   "outputs": [],
   "source": [
    "a"
   ]
  },
  {
   "cell_type": "code",
   "execution_count": null,
   "metadata": {},
   "outputs": [],
   "source": [
    "b"
   ]
  }
 ],
 "metadata": {
  "kernelspec": {
   "display_name": "Python 3",
   "language": "python",
   "name": "python3"
  },
  "language_info": {
   "codemirror_mode": {
    "name": "ipython",
    "version": 3
   },
   "file_extension": ".py",
   "mimetype": "text/x-python",
   "name": "python",
   "nbconvert_exporter": "python",
   "pygments_lexer": "ipython3",
   "version": "3.6.3"
  }
 },
 "nbformat": 4,
 "nbformat_minor": 2
}
